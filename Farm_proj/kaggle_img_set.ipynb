{
 "cells": [
  {
   "cell_type": "code",
   "execution_count": null,
   "metadata": {},
   "outputs": [],
   "source": [
    "import cv2\n",
    "import numpy as np\n",
    "import os\n",
    "base_dir = './IMG/train/'\n",
    "target_cnt = 400 # 수집할 사진 수\n",
    "cnt = 0 # 사진 촬영 수\n",
    "\n",
    "face_classifier = cv2.CascadeClassifier('./Cascades/haarcascade_frontalface_default.xml')\n",
    "\n",
    "name = input(\"Insert User Name(Only Alphabet): \")\n",
    "id = input(\"Insert User Id(Non-Duplicate number): \")\n",
    "dir = os.path.join(base_dir, name+'_'+id)\n",
    "\n",
    "if not os.path.exists(dir):\n",
    "    os.mkdir(dir)\n",
    "\n",
    "cap = cv2.VideoCapture(0)\n",
    "while cap.isOpened():\n",
    "    ret, frame = cap.read()\n",
    "    if ret:\n",
    "        img = frame.copy()\n",
    "        gray = cv2.cvtColor(img, cv2.COLOR_BGR2GRAY)\n",
    "        \n",
    "        faces = face_classifier.detectMultiScale(gray, 1.3, 5)\n",
    "        if len(faces) == 1:\n",
    "            (x, y, w, h) = faces[0]\n",
    "            cv2.rectangle(frame, (x,y), (x+w, y+h), (0, 255, 0), 1)\n",
    "            face = gray[y:y+h, x:x+w]\n",
    "            face = cv2.resize(face, (200, 200))\n",
    "            file_name_path = os.path.join(dir, str(cnt) + '.jpg')\n",
    "            cv2.imwrite(file_name_path, face) # 수집한 사진을 설정한 경로에 저장\n",
    "            cv2.putText(frame, str(cnt), (x, y), cv2.FONT_HERSHEY_COMPLEX, 1, (0, 255, 0), 2)\n",
    "            cnt+=1\n",
    "        else:\n",
    "            if len(faces) == 0:\n",
    "                msg = \"no face\"\n",
    "            elif len(faces) > 1:\n",
    "                msg = \"too many face\"\n",
    "            cv2.putText(frame, msg, (10, 50), cv2.FONT_HERSHEY_DUPLEX, 1, (0, 0, 255))\n",
    "        \n",
    "        cv2.imshow('face record', frame)\n",
    "        if cv2.waitKey(1) == 27 or cnt == target_cnt:\n",
    "            break\n",
    "\n",
    "cap.release()\n",
    "cv2.destroyAllWindows()\n",
    "print(\"Collecting Samples Completed.\")"
   ]
  }
 ],
 "metadata": {
  "language_info": {
   "name": "python"
  },
  "orig_nbformat": 4
 },
 "nbformat": 4,
 "nbformat_minor": 2
}
